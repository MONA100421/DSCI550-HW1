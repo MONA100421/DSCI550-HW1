{
 "cells": [
  {
   "cell_type": "markdown",
   "metadata": {},
   "source": [
    "## Preprocessing"
   ]
  },
  {
   "cell_type": "code",
   "execution_count": 1,
   "metadata": {},
   "outputs": [],
   "source": [
    "import pandas as pd\n",
    "\n",
    "# load the file as pandas df and replace all the empty strings or white spaces with NaN\n",
    "df = pd.read_csv('../Data/haunted_places.csv').replace(r'^\\s*$', pd.NA, regex=True)"
   ]
  },
  {
   "cell_type": "code",
   "execution_count": 2,
   "metadata": {},
   "outputs": [],
   "source": [
    "# remove all the empty rows from the file.\n",
    "df = df.dropna(how='all')"
   ]
  },
  {
   "cell_type": "code",
   "execution_count": 3,
   "metadata": {},
   "outputs": [],
   "source": [
    "# fill missing longtidue/latitude with city_longitude/city_latitude\n",
    "df['longitude'] = df['longitude'].fillna(df['city_longitude'])\n",
    "df['latitude'] = df['latitude'].fillna(df['city_latitude'])"
   ]
  },
  {
   "cell_type": "code",
   "execution_count": 4,
   "metadata": {},
   "outputs": [],
   "source": [
    "# remove rows with missing location information\n",
    "df_cleaned = df.dropna(subset=['longitude', 'latitude'], how='any')"
   ]
  },
  {
   "cell_type": "markdown",
   "metadata": {},
   "source": [
    "## Create a combined TSV file for your Haunted Places dataset"
   ]
  },
  {
   "cell_type": "code",
   "execution_count": 6,
   "metadata": {},
   "outputs": [],
   "source": [
    "# make a copy of the cleaned dataset and convert the cleaned dataset into a tsv file.\n",
    "data_path = '../Data/haunted_places_cleaned.csv'\n",
    "data_copy_path = '../Data/haunted_places_cleaned_copy.csv'\n",
    "\n",
    "df_cleaned.to_csv(data_path, index=False)    # save the cleaned dataset in ../Data foler\n",
    "df_cleaned.to_csv(data_copy_path, index=False)     # make a copy of cleaned dataset\n",
    "\n",
    "# convert the dataset into tsv file\n",
    "tsv_path = '../Data/cleaned_haunted_places.tsv'\n",
    "df_cleaned.to_csv(tsv_path, sep='\\t', index=False)"
   ]
  }
 ],
 "metadata": {
  "kernelspec": {
   "display_name": "Python 3",
   "language": "python",
   "name": "python3"
  },
  "language_info": {
   "codemirror_mode": {
    "name": "ipython",
    "version": 3
   },
   "file_extension": ".py",
   "mimetype": "text/x-python",
   "name": "python",
   "nbconvert_exporter": "python",
   "pygments_lexer": "ipython3",
   "version": "3.8.5"
  }
 },
 "nbformat": 4,
 "nbformat_minor": 4
}
