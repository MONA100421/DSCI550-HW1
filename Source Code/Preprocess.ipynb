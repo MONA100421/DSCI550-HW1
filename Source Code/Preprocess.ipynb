{
 "cells": [
  {
   "cell_type": "markdown",
   "id": "6f65b313-1973-414b-a370-4c00f023c167",
   "metadata": {},
   "source": [
    "Data Cleaning"
   ]
  },
  {
   "cell_type": "code",
   "execution_count": 5,
   "id": "4de6958a-2946-491a-8118-2df176782603",
   "metadata": {},
   "outputs": [],
   "source": [
    "import pandas as pd\n",
    "\n",
    "# load the file as pandas df and replace all the empty strings or white spaces with NaN\n",
    "df = pd.read_csv('../Data/haunted_places.csv').replace(r'^\\s*$', pd.NA, regex=True)"
   ]
  },
  {
   "cell_type": "markdown",
   "id": "3264b019-2ff7-4cd6-abf6-e46bc29dcff6",
   "metadata": {},
   "source": [
    "1. remove all the empty rows from the file."
   ]
  },
  {
   "cell_type": "code",
   "execution_count": 7,
   "id": "b30043bc-52b5-4f85-8a03-736b18e49909",
   "metadata": {},
   "outputs": [],
   "source": [
    "df = df.dropna(how='all')"
   ]
  },
  {
   "cell_type": "markdown",
   "id": "8f838c14-6945-49e6-a06d-a2215d63010b",
   "metadata": {},
   "source": [
    "2. fill missing longtidue/latitude with city_longitude/city_latitude"
   ]
  },
  {
   "cell_type": "code",
   "execution_count": 10,
   "id": "7c8e11d3-077e-4615-9128-8e9aeaac81db",
   "metadata": {},
   "outputs": [],
   "source": [
    "df['longitude'] = df['longitude'].fillna(df['city_longitude'])\n",
    "df['latitude'] = df['latitude'].fillna(df['city_latitude'])"
   ]
  },
  {
   "cell_type": "markdown",
   "id": "7138b2a9-e561-4730-bcc3-0732757a0b57",
   "metadata": {},
   "source": [
    "3. remove rows with missing location information"
   ]
  },
  {
   "cell_type": "code",
   "execution_count": 13,
   "id": "860cb42b-cfd4-406a-a443-974895a8dbf1",
   "metadata": {},
   "outputs": [],
   "source": [
    "df_cleaned = df.dropna(subset=['longitude', 'latitude'], how='any')"
   ]
  },
  {
   "cell_type": "markdown",
   "id": "e6328568-0184-45a6-8654-02c0aabf81cd",
   "metadata": {},
   "source": [
    "4. make a copy of the cleaned dataset and convert the cleaned dataset into a tsv file."
   ]
  },
  {
   "cell_type": "code",
   "execution_count": 16,
   "id": "14ef1f19-1774-4d85-898b-0aa7492c1e29",
   "metadata": {},
   "outputs": [],
   "source": [
    "data_path = '../Data/haunted_places_cleaned.csv'\n",
    "data_copy_path = '../Data/haunted_places_cleaned_copy.csv'\n",
    "\n",
    "df_cleaned.to_csv(data_path, index=False)    # save the cleaned dataset in ../Data foler\n",
    "df_cleaned.to_csv(data_copy_path, index=False)     # make a copy of cleaned dataset\n",
    "\n",
    "# convert the dataset into tsv file\n",
    "tsv_path = '../Data/cleaned_haunted_places.tsv'\n",
    "df_cleaned.to_csv(tsv_path, sep='\\t', index=False)"
   ]
  },
  {
   "cell_type": "code",
   "execution_count": null,
   "id": "51a786f8-33f9-43fe-aee1-069c75b0df71",
   "metadata": {},
   "outputs": [],
   "source": []
  }
 ],
 "metadata": {
  "kernelspec": {
   "display_name": "Python 3 (ipykernel)",
   "language": "python",
   "name": "python3"
  },
  "language_info": {
   "codemirror_mode": {
    "name": "ipython",
    "version": 3
   },
   "file_extension": ".py",
   "mimetype": "text/x-python",
   "name": "python",
   "nbconvert_exporter": "python",
   "pygments_lexer": "ipython3",
   "version": "3.12.2"
  }
 },
 "nbformat": 4,
 "nbformat_minor": 5
}
